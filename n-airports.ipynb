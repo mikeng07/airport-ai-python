{
  "cells": [
    {
      "cell_type": "code",
      "execution_count": null,
      "metadata": {
        "id": "dQqgvSmJVbSt"
      },
      "outputs": [],
      "source": []
    },
    {
      "cell_type": "code",
      "execution_count": 32,
      "metadata": {
        "colab": {
          "base_uri": "https://localhost:8080/",
          "height": 843
        },
        "id": "kVQUo9debB_s",
        "outputId": "04e0124b-18b0-47d4-d928-4eeebd16c4b1"
      },
      "outputs": [
        {
          "data": {
            "image/png": "[encoded data removed]",
            "text/plain": [
              "<Figure size 640x480 with 1 Axes>"
            ]
          },
          "metadata": {},
          "output_type": "display_data"
        },
        {
          "data": {
            "image/png": "[encoded data removed]",
            "text/plain": [
              "<Figure size 640x480 with 1 Axes>"
            ]
          },
          "metadata": {},
          "output_type": "display_data"
        }
      ],
      "source": [
        "import random\n",
        "import numpy as np\n",
        "\n",
        "num_city = 100\n",
        "num_air = 3\n",
        "num_center = 3\n",
        "sigma = 0.1\n",
        "cities = set()\n",
        "airports = []\n",
        "\n",
        "# define a learning rate\n",
        "learning_rate = 0.01\n",
        "# define a objective function value list\n",
        "objective_value = []\n",
        "\n",
        "'''\n",
        "1. Find the cluster of cities\n",
        "2. assign the airport for that cluster\n",
        "3. USe the Gradient Descent to find the new location\n",
        "4. Calculate the objective function value\n",
        "5. Plot in the objective function value with epoch\n",
        "'''\n",
        "\n",
        "\n",
        "#STEP 1 & 2\n",
        "#define a list of city cluster coordinates\n",
        "\n",
        "city_cluster_x_coordinates = []\n",
        "city_cluster_y_coordinates = []\n",
        "\n",
        "\n",
        "#Randomly generate a cluster of cities\n",
        "for i in range(num_center):\n",
        "    x = random.random()\n",
        "    y = random.random()\n",
        "    xc = np.random.normal(x, sigma, num_city//num_center)\n",
        "    yc = np.random.normal(y, sigma, num_city//num_center)\n",
        "    cities = cities.union(zip(xc, yc))\n",
        "\n",
        "    #save this cluster to a list of coordinates\n",
        "    city_cluster_x_coordinates.append(xc)\n",
        "    city_cluster_y_coordinates.append(yc)\n",
        "\n",
        "#Randomly generate airports\n",
        "for i in range(num_air):\n",
        "    x = random.random()\n",
        "    y = random.random()\n",
        "    airports.append((x,y))\n",
        "\n",
        "#separate the airports\n",
        "airport1= airports[0]\n",
        "airport2= airports[1]\n",
        "airport3= airports[2]\n",
        "\n",
        "\n",
        "#STEP 3 & 4: find the optimal location and objective function value\n",
        "for i in range(10):\n",
        "\n",
        "  # find optimal location for airport 1\n",
        "  x1, y1 = airport1\n",
        "  objective_value1 = sum(pow(city_cluster_x_coordinates[0]- x1,2) + pow(city_cluster_y_coordinates[0] - y1,2))\n",
        "  x1_grad = -2*sum(city_cluster_x_coordinates[0] - x1)\n",
        "  y1_grad = -2*sum(city_cluster_y_coordinates[0] - y1)\n",
        "  x1 -= learning_rate * x1_grad\n",
        "  y1 -= learning_rate * y1_grad\n",
        "  airport1 = (x1, y1)\n",
        "\n",
        "  #find optimal location for airport 2\n",
        "  x2, y2 = airport2\n",
        "  objective_value2 = sum(pow(city_cluster_x_coordinates[1]- x2,2) + pow(city_cluster_y_coordinates[1] - y2,2))\n",
        "  x2_grad = -2*sum(city_cluster_x_coordinates[1] - x2)\n",
        "  y2_grad = -2*sum(city_cluster_y_coordinates[1] - y2)\n",
        "  x2 -= learning_rate * x2_grad\n",
        "  y2 -= learning_rate * y2_grad\n",
        "  airport2 = (x2, y2)\n",
        "\n",
        "  #find optimal location for airport 3\n",
        "  x3, y3 = airport3\n",
        "  objective_value3 = sum(pow(city_cluster_x_coordinates[2]- x3,2) + pow(city_cluster_y_coordinates[2] - y3,2))\n",
        "  x3_grad = -2*sum(city_cluster_x_coordinates[2] - x3)\n",
        "  y3_grad = -2*sum(city_cluster_y_coordinates[2] - y3)\n",
        "  x3 -= learning_rate * x3_grad\n",
        "  y3 -= learning_rate * y3_grad\n",
        "  airport3 = (x3, y3)\n",
        "\n",
        "  #find objective value\n",
        "  objective_value.append(objective_value1 + objective_value2 + objective_value3)\n",
        "\n",
        "airports[0] = airport1\n",
        "airports[1] = airport2\n",
        "airports[2] = airport3\n",
        "\n",
        "\n",
        "#STEP 5:\n",
        "import matplotlib.pyplot as plt\n",
        "\n",
        "\n",
        "nums = np.arange(1, 11)\n",
        "\n",
        "fig1 = plt.figure()\n",
        "zip_cities = zip(*cities)\n",
        "plt.scatter(*zip_cities, marker='+',color='b', label='Cities')\n",
        "zip_airs = zip(*airports)\n",
        "plt.scatter(*zip_airs, marker='*', color='r', s=100, label='Airports')\n",
        "plt.legend()\n",
        "plt\n",
        "\n",
        "#plot the graph as function of epoch\n",
        "fig2 = plt.figure()\n",
        "plt.scatter(nums, objective_value, c =\"blue\")\n",
        "plt.show()\n",
        "\n"
      ]
    },
    {
      "cell_type": "code",
      "execution_count": null,
      "metadata": {
        "id": "FPd4WMfimkU8"
      },
      "outputs": [],
      "source": []
    }
  ],
  "metadata": {
    "colab": {
      "provenance": []
    },
    "kernelspec": {
      "display_name": "Python 3.9.6 64-bit",
      "language": "python",
      "name": "python3"
    },
    "language_info": {
      "name": "python",
      "version": "3.9.6"
    },
    "vscode": {
      "interpreter": {
        "hash": "31f2aee4e71d21fbe5cf8b01ff0e069b9275f58929596ceb00d14d90e3e16cd6"
      }
    }
  },
  "nbformat": 4,
  "nbformat_minor": 0
}
